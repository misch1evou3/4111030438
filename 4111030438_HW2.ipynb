{
  "cells": [
    {
      "cell_type": "code",
      "execution_count": 1,
      "metadata": {
        "colab": {
          "base_uri": "https://localhost:8080/"
        },
        "id": "CtahKedRria2",
        "outputId": "54a0ac06-03af-4a30-d848-f879dc43b570"
      },
      "outputs": [
        {
          "output_type": "stream",
          "name": "stdout",
          "text": [
            "請輸入logical address7000\n",
            "The physical address is 39768\n"
          ]
        }
      ],
      "source": [
        "def memory_addressing (page_table , page_size ,logical_address):\n",
        "\n",
        "  # 計算頁號和偏移量\n",
        "\n",
        "  page_number,offset = divmod(logical_address , page_size)\n",
        "\n",
        "\n",
        "  # 查找頁表來獲得相應的框架號\n",
        "\n",
        "  if page_number in page_table:\n",
        "\n",
        "    frame_number = page_table [page_number]\n",
        "\n",
        "    # 計算物理地址\n",
        "\n",
        "    physical_address = frame_number * page_size + offset\n",
        "\n",
        "    print( f\"The physical address is { physical_address }\")\n",
        "\n",
        "  else:\n",
        "\n",
        "    print(\"Invalid page number, address translation failed.\")\n",
        "\n",
        "# 定義頁表，其中鍵是頁號，值是框架號\n",
        "\n",
        "page_table = {0: 5, 1: 9, 2:14}\n",
        "\n",
        "# 定義頁大小\n",
        "\n",
        "page_size = 4096\n",
        "\n",
        "# 定義邏輯地址\n",
        "\n",
        "logical_address = int(input(\"請輸入logical address\"))\n",
        "\n",
        "# 調用函數進行地址轉換(呼叫定義函數)\n",
        "\n",
        "memory_addressing (page_table , page_size , logical_address)\n",
        "\n"
      ]
    }
  ],
  "metadata": {
    "colab": {
      "provenance": []
    },
    "kernelspec": {
      "display_name": "Python 3",
      "name": "python3"
    },
    "language_info": {
      "name": "python"
    }
  },
  "nbformat": 4,
  "nbformat_minor": 0
}